{
 "cells": [
  {
   "cell_type": "markdown",
   "metadata": {},
   "source": [
    "# Sentiment Analysis"
   ]
  },
  {
   "cell_type": "code",
   "execution_count": 1,
   "metadata": {},
   "outputs": [],
   "source": [
    "from stanfordcorenlp import StanfordCoreNLP\n",
    "import logging\n",
    "import json"
   ]
  },
  {
   "cell_type": "markdown",
   "metadata": {},
   "source": [
    "## Start server"
   ]
  },
  {
   "cell_type": "code",
   "execution_count": 7,
   "metadata": {},
   "outputs": [
    {
     "name": "stderr",
     "output_type": "stream",
     "text": [
      "INFO:root:Initializing native server...\n",
      "INFO:root:java -Xmx4g -cp \"/media/carpediemmlf/MyPassport/Data/stanfordcorenlp/stanford-corenlp-full-2018-10-05/*\" edu.stanford.nlp.pipeline.StanfordCoreNLPServer -port 9000\n",
      "INFO:root:Server shell PID: 6308\n",
      "INFO:root:Waiting until the server is available.\n",
      "INFO:root:Waiting until the server is available.\n",
      "INFO:root:The server is available.\n"
     ]
    }
   ],
   "source": [
    "# Please first run from the command line: pip install stanfordcorenlp\n",
    "from stanfordcorenlp import StanfordCoreNLP\n",
    "\n",
    "# specify the path to the stanford-corenlp-full-2018-10-05 and the language in use with CoreNLP parameters\n",
    "nlp = StanfordCoreNLP(r'/media/carpediemmlf/MyPassport/Data/stanfordcorenlp/stanford-corenlp-full-2018-10-05', lang='en', quiet = True)"
   ]
  },
  {
   "cell_type": "markdown",
   "metadata": {},
   "source": [
    "## Close Server"
   ]
  },
  {
   "cell_type": "code",
   "execution_count": 9,
   "metadata": {},
   "outputs": [
    {
     "name": "stderr",
     "output_type": "stream",
     "text": [
      "INFO:root:Cleanup...\n",
      "INFO:root:Killing pid: 6309, cmdline: ['java', '-Xmx4g', '-cp', '/media/carpediemmlf/MyPassport/Data/stanfordcorenlp/stanford-corenlp-full-2018-10-05/*', 'edu.stanford.nlp.pipeline.StanfordCoreNLPServer', '-port', '9000']\n",
      "INFO:root:Killing shell pid: 6308, cmdline: ['/bin/sh', '-c', 'java -Xmx4g -cp \"/media/carpediemmlf/MyPassport/Data/stanfordcorenlp/stanford-corenlp-full-2018-10-05/*\" edu.stanford.nlp.pipeline.StanfordCoreNLPServer -port 9000']\n"
     ]
    }
   ],
   "source": [
    "nlp.close() # Do not forget to close! The backend server will consume a lot memery."
   ]
  },
  {
   "cell_type": "markdown",
   "metadata": {},
   "source": [
    "## Usage Example"
   ]
  },
  {
   "cell_type": "code",
   "execution_count": 8,
   "metadata": {},
   "outputs": [
    {
     "name": "stderr",
     "output_type": "stream",
     "text": [
      "INFO:root:{'properties': \"{'annotators': 'ssplit,tokenize', 'outputFormat': 'json'}\", 'pipelineLanguage': 'en'}\n",
      "DEBUG:urllib3.connectionpool:Starting new HTTP connection (1): localhost:9000\n",
      "DEBUG:urllib3.connectionpool:http://localhost:9000 \"POST /?properties=%7B%27annotators%27%3A+%27ssplit%2Ctokenize%27%2C+%27outputFormat%27%3A+%27json%27%7D&pipelineLanguage=en HTTP/1.1\" 200 2357\n",
      "INFO:root:{'properties': \"{'annotators': 'pos', 'outputFormat': 'json'}\", 'pipelineLanguage': 'en'}\n",
      "DEBUG:urllib3.connectionpool:Starting new HTTP connection (1): localhost:9000\n"
     ]
    },
    {
     "name": "stdout",
     "output_type": "stream",
     "text": [
      "Tokenize: ['Guangdong', 'University', 'of', 'Foreign', 'Studies', 'is', 'located', 'in', 'Guangzhou', '.']\n"
     ]
    },
    {
     "name": "stderr",
     "output_type": "stream",
     "text": [
      "DEBUG:urllib3.connectionpool:http://localhost:9000 \"POST /?properties=%7B%27annotators%27%3A+%27pos%27%2C+%27outputFormat%27%3A+%27json%27%7D&pipelineLanguage=en HTTP/1.1\" 200 2593\n",
      "INFO:root:{'properties': \"{'annotators': 'ner', 'outputFormat': 'json'}\", 'pipelineLanguage': 'en'}\n",
      "DEBUG:urllib3.connectionpool:Starting new HTTP connection (1): localhost:9000\n"
     ]
    },
    {
     "name": "stdout",
     "output_type": "stream",
     "text": [
      "Part of Speech: [('Guangdong', 'NNP'), ('University', 'NNP'), ('of', 'IN'), ('Foreign', 'NNP'), ('Studies', 'NNPS'), ('is', 'VBZ'), ('located', 'JJ'), ('in', 'IN'), ('Guangzhou', 'NNP'), ('.', '.')]\n"
     ]
    },
    {
     "name": "stderr",
     "output_type": "stream",
     "text": [
      "DEBUG:urllib3.connectionpool:http://localhost:9000 \"POST /?properties=%7B%27annotators%27%3A+%27ner%27%2C+%27outputFormat%27%3A+%27json%27%7D&pipelineLanguage=en HTTP/1.1\" 200 3748\n",
      "INFO:root:{'properties': \"{'annotators': 'pos,parse', 'outputFormat': 'json'}\", 'pipelineLanguage': 'en'}\n",
      "DEBUG:urllib3.connectionpool:Starting new HTTP connection (1): localhost:9000\n"
     ]
    },
    {
     "name": "stdout",
     "output_type": "stream",
     "text": [
      "Named Entities: [('Guangdong', 'ORGANIZATION'), ('University', 'ORGANIZATION'), ('of', 'ORGANIZATION'), ('Foreign', 'ORGANIZATION'), ('Studies', 'ORGANIZATION'), ('is', 'O'), ('located', 'O'), ('in', 'O'), ('Guangzhou', 'CITY'), ('.', 'O')]\n"
     ]
    },
    {
     "name": "stderr",
     "output_type": "stream",
     "text": [
      "DEBUG:urllib3.connectionpool:http://localhost:9000 \"POST /?properties=%7B%27annotators%27%3A+%27pos%2Cparse%27%2C+%27outputFormat%27%3A+%27json%27%7D&pipelineLanguage=en HTTP/1.1\" 200 8182\n",
      "INFO:root:{'properties': \"{'annotators': 'depparse', 'outputFormat': 'json'}\", 'pipelineLanguage': 'en'}\n",
      "DEBUG:urllib3.connectionpool:Starting new HTTP connection (1): localhost:9000\n"
     ]
    },
    {
     "name": "stdout",
     "output_type": "stream",
     "text": [
      "Constituency Parsing: (ROOT\n",
      "  (S\n",
      "    (NP\n",
      "      (NP (NNP Guangdong) (NNP University))\n",
      "      (PP (IN of)\n",
      "        (NP (NNP Foreign) (NNPS Studies))))\n",
      "    (VP (VBZ is)\n",
      "      (VP (JJ located)\n",
      "        (PP (IN in)\n",
      "          (NP (NNP Guangzhou)))))\n",
      "    (. .)))\n"
     ]
    },
    {
     "name": "stderr",
     "output_type": "stream",
     "text": [
      "DEBUG:urllib3.connectionpool:http://localhost:9000 \"POST /?properties=%7B%27annotators%27%3A+%27depparse%27%2C+%27outputFormat%27%3A+%27json%27%7D&pipelineLanguage=en HTTP/1.1\" 200 7947\n"
     ]
    },
    {
     "name": "stdout",
     "output_type": "stream",
     "text": [
      "Dependency Parsing: [('ROOT', 0, 7), ('compound', 2, 1), ('nsubjpass', 7, 2), ('case', 5, 3), ('compound', 5, 4), ('nmod', 2, 5), ('auxpass', 7, 6), ('case', 9, 8), ('nmod', 7, 9), ('punct', 7, 10)]\n"
     ]
    }
   ],
   "source": [
    "# Simple usage\n",
    "sentence = 'Guangdong University of Foreign Studies is located in Guangzhou.'\n",
    "\n",
    "print ('Tokenize:', nlp.word_tokenize(sentence))\n",
    "print ('Part of Speech:', nlp.pos_tag(sentence))\n",
    "print ('Named Entities:', nlp.ner(sentence))\n",
    "print ('Constituency Parsing:', nlp.parse(sentence))\n",
    "print ('Dependency Parsing:', nlp.dependency_parse(sentence))"
   ]
  }
 ],
 "metadata": {
  "kernelspec": {
   "display_name": "Python [conda env:root] *",
   "language": "python",
   "name": "conda-root-py"
  },
  "language_info": {
   "codemirror_mode": {
    "name": "ipython",
    "version": 3
   },
   "file_extension": ".py",
   "mimetype": "text/x-python",
   "name": "python",
   "nbconvert_exporter": "python",
   "pygments_lexer": "ipython3",
   "version": "3.7.3"
  }
 },
 "nbformat": 4,
 "nbformat_minor": 4
}
