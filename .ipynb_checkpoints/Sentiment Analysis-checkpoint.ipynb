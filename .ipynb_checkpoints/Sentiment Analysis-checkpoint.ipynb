{
 "cells": [
  {
   "cell_type": "markdown",
   "metadata": {},
   "source": [
    "# Sentiment Analysis"
   ]
  },
  {
   "cell_type": "markdown",
   "metadata": {},
   "source": [
    "## NLTK"
   ]
  },
  {
   "cell_type": "code",
   "execution_count": 6,
   "metadata": {},
   "outputs": [],
   "source": [
    "import nltk\n",
    "from nltk.corpus import treebank\n",
    "# first download all packages by openning python and then running in the command line: nltk.download()\n",
    "# and then using the prompted gui to download ALL packages"
   ]
  },
  {
   "cell_type": "code",
   "execution_count": 9,
   "metadata": {},
   "outputs": [
    {
     "name": "stdout",
     "output_type": "stream",
     "text": [
      "92.2 µs ± 1.78 µs per loop (mean ± std. dev. of 7 runs, 10000 loops each)\n",
      "363 µs ± 17.6 µs per loop (mean ± std. dev. of 7 runs, 1000 loops each)\n",
      "['Guangdong', 'University', 'of', 'Foreign', 'Studies', 'is', 'located', 'in', 'Guangzhou', '.']\n",
      "['Guangdong', 'University', 'of', 'Foreign', 'Studies', 'is', 'located', 'in', 'Guangzhou.']\n",
      "[('Guangdong', 'NNP'), ('University', 'NNP'), ('of', 'IN'), ('Foreign', 'NNP'), ('Studies', 'NNPS'), ('is', 'VBZ'), ('located', 'VBN'), ('in', 'IN'), ('Guangzhou', 'NNP'), ('.', '.')]\n"
     ]
    }
   ],
   "source": [
    "sentence0 = 'Guangdong University of Foreign Studies is located in Guangzhou.'\n",
    "sentence1 = 'I encountered many bugs in the data integration tool.'\n",
    "paragraph0 = 'Check it at https://github.com/bovbi/bootstrap-multiselect-pentaho-filterThis plugin applies the All Member propertie of Mondrian Schema with Bootstrap Multiselect plugin creating a better user experience.Download the following exampleIf the user selects all the options available, the request value parameter will be sent with the All Member propertie configured in setup script.Watch the talk at #PentahoDay2017 in Brazil (slides and audio in portuguese).If the parameter of filter is empty, it is possible in preChange function to set a parameter that by default will pre select the options from select. These parameter possibilities are:I hope this helps.'\n",
    "\n",
    "%timeit tokens = nltk.word_tokenize(sentence0)\n",
    "%timeit tagged = nltk.pos_tag(tokens)\n",
    "t = treebank.parsed_sents('wsj_0001.mrg')[0]\n",
    "print (tokens)\n",
    "print(sentence0.split())\n",
    "print (tagged)"
   ]
  },
  {
   "cell_type": "markdown",
   "metadata": {},
   "source": [
    "- NLTK comment: faster than CoreNLP"
   ]
  },
  {
   "cell_type": "markdown",
   "metadata": {},
   "source": [
    "## CoreNLP"
   ]
  },
  {
   "cell_type": "code",
   "execution_count": 1,
   "metadata": {},
   "outputs": [],
   "source": [
    "from stanfordcorenlp import StanfordCoreNLP\n",
    "import logging\n",
    "import json"
   ]
  },
  {
   "cell_type": "markdown",
   "metadata": {},
   "source": [
    "## Start server"
   ]
  },
  {
   "cell_type": "code",
   "execution_count": 2,
   "metadata": {},
   "outputs": [],
   "source": [
    "# Please first run from the command line: pip install stanfordcorenlp\n",
    "from stanfordcorenlp import StanfordCoreNLP\n",
    "# specify the path to the stanford-corenlp-full-2018-10-05 and the language in use with CoreNLP parameters\n",
    "nlp = StanfordCoreNLP(r'/media/carpediemmlf/MyPassport/Data/stanfordcorenlp/stanford-corenlp-full-2018-10-05', lang='en', quiet = True)"
   ]
  },
  {
   "cell_type": "markdown",
   "metadata": {},
   "source": [
    "## Close Server"
   ]
  },
  {
   "cell_type": "code",
   "execution_count": 12,
   "metadata": {},
   "outputs": [],
   "source": [
    "nlp.close() # Do not forget to close! The backend server will consume a lot memery."
   ]
  },
  {
   "cell_type": "markdown",
   "metadata": {},
   "source": [
    "## Usage Example"
   ]
  },
  {
   "cell_type": "code",
   "execution_count": 11,
   "metadata": {},
   "outputs": [
    {
     "name": "stdout",
     "output_type": "stream",
     "text": [
      "The slowest run took 4.11 times longer than the fastest. This could mean that an intermediate result is being cached.\n",
      "11.5 ms ± 5.06 ms per loop (mean ± std. dev. of 7 runs, 1 loop each)\n"
     ]
    }
   ],
   "source": [
    "# Simple usage\n",
    "sentence0 = 'Guangdong University of Foreign Studies is located in Guangzhou.'\n",
    "sentence1 = 'I encountered many bugs in the data integration tool.'\n",
    "paragraph0 = 'Check it at https://github.com/bovbi/bootstrap-multiselect-pentaho-filterThis plugin applies the All Member propertie of Mondrian Schema with Bootstrap Multiselect plugin creating a better user experience.Download the following exampleIf the user selects all the options available, the request value parameter will be sent with the All Member propertie configured in setup script.Watch the talk at #PentahoDay2017 in Brazil (slides and audio in portuguese).If the parameter of filter is empty, it is possible in preChange function to set a parameter that by default will pre select the options from select. These parameter possibilities are:I hope this helps.'\n",
    "\n",
    "\n",
    " \n",
    "# %timeit result = nlp.annotate(sentence0,  properties={ 'annotators': 'pos', 'outputFormat': 'json', 'timeout': 1000,})\n",
    "\n",
    "result = nlp.annotate(sentence0,\n",
    "                   properties={\n",
    "                       'annotators': 'sentiment, ner, pos',\n",
    "                       'outputFormat': 'json',\n",
    "                       'timeout': 1000,\n",
    "                   })"
   ]
  },
  {
   "cell_type": "code",
   "execution_count": 9,
   "metadata": {},
   "outputs": [
    {
     "name": "stdout",
     "output_type": "stream",
     "text": [
      "CoreNLP request timed out. Your document may be too long.\n"
     ]
    }
   ],
   "source": [
    "print(result)"
   ]
  },
  {
   "cell_type": "markdown",
   "metadata": {},
   "source": [
    "- CoreNLP comment: 5-10 times slower than nltk"
   ]
  },
  {
   "cell_type": "code",
   "execution_count": null,
   "metadata": {},
   "outputs": [],
   "source": []
  }
 ],
 "metadata": {
  "kernelspec": {
   "display_name": "Python [conda env:root] *",
   "language": "python",
   "name": "conda-root-py"
  },
  "language_info": {
   "codemirror_mode": {
    "name": "ipython",
    "version": 3
   },
   "file_extension": ".py",
   "mimetype": "text/x-python",
   "name": "python",
   "nbconvert_exporter": "python",
   "pygments_lexer": "ipython3",
   "version": "3.7.3"
  }
 },
 "nbformat": 4,
 "nbformat_minor": 4
}
